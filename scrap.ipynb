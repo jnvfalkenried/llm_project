{
 "cells": [
  {
   "cell_type": "markdown",
   "metadata": {},
   "source": [
    "# First Try"
   ]
  },
  {
   "cell_type": "code",
   "execution_count": 54,
   "metadata": {},
   "outputs": [
    {
     "name": "stderr",
     "output_type": "stream",
     "text": [
      "/tmp/ipykernel_417384/2601532259.py:3: DtypeWarning: Columns (4) have mixed types. Specify dtype option on import or set low_memory=False.\n",
      "  imdb = pd.read_csv('data/title.basics.tsv', sep='\\t')\n"
     ]
    }
   ],
   "source": [
    "import pandas as pd\n",
    "\n",
    "imdb = pd.read_csv('data/title.basics.tsv', sep='\\t')\n",
    "imdb = imdb[(imdb['titleType'] == 'movie') | (imdb['titleType'] == 'tvSeries')]\n",
    "imdb['primaryTitle'] = imdb['primaryTitle'].str.lower()"
   ]
  },
  {
   "cell_type": "markdown",
   "metadata": {},
   "source": [
    "# Get all content from Netflix in Sweden -- DEPRECATED"
   ]
  },
  {
   "cell_type": "code",
   "execution_count": null,
   "metadata": {},
   "outputs": [],
   "source": [
    "from selenium import webdriver\n",
    "from selenium.webdriver.common.by import By\n",
    "from selenium.webdriver.common.keys import Keys\n",
    "from bs4 import BeautifulSoup\n",
    "import time\n",
    "\n",
    "# Set up the Selenium WebDriver (use appropriate WebDriver for your browser)\n",
    "driver = webdriver.Chrome()\n",
    "\n",
    "# Open the page\n",
    "driver.get('https://www.justwatch.com/se/leverantör/netflix')\n",
    "\n",
    "# Simulate scrolling\n",
    "SCROLL_PAUSE_TIME = 2  # seconds\n",
    "\n",
    "# Get the initial height of the page\n",
    "last_height = driver.execute_script(\"return document.body.scrollHeight\")\n",
    "\n",
    "while True:\n",
    "    # Scroll down to the bottom\n",
    "    driver.execute_script(\"window.scrollTo(0, document.body.scrollHeight);\")\n",
    "    \n",
    "    # Wait for new content to load\n",
    "    time.sleep(SCROLL_PAUSE_TIME)\n",
    "    \n",
    "    # Calculate new scroll height and compare with the last scroll height\n",
    "    new_height = driver.execute_script(\"return document.body.scrollHeight\")\n",
    "    \n",
    "    # If the height hasn't changed, we've reached the bottom of the page\n",
    "    if new_height == last_height:\n",
    "        break\n",
    "    last_height = new_height\n",
    "\n",
    "# Once all content is loaded, parse the page with BeautifulSoup\n",
    "soup = BeautifulSoup(driver.page_source, 'html.parser')\n",
    "\n",
    "# Find the title grid and extract the titles\n",
    "title_grid = soup.find('div', class_='title-list-grid')\n",
    "\n",
    "if title_grid:\n",
    "    title_elements = title_grid.find_all('div', {'data-title': True})\n",
    "    \n",
    "    titles = [element['data-title'] for element in title_elements]\n",
    "    \n",
    "    for title in titles:\n",
    "        print(title)\n",
    "else:\n",
    "    print(\"No titles found.\")\n",
    "\n",
    "# Close the driver\n",
    "driver.quit()\n"
   ]
  },
  {
   "cell_type": "markdown",
   "metadata": {},
   "source": [
    "# Scrap IMDB"
   ]
  },
  {
   "cell_type": "code",
   "execution_count": 53,
   "metadata": {},
   "outputs": [],
   "source": [
    "netflix = pd.read_csv('data/netflix_titles.csv')\n",
    "netflix['type'] = netflix['type'].apply(lambda x: 'movie' if x == 'Movie' else 'tvSeries')\n",
    "netflix['release_year'] = netflix['release_year'].astype(str)\n",
    "netflix['title'] = netflix['title'].str.lower()"
   ]
  },
  {
   "cell_type": "code",
   "execution_count": 55,
   "metadata": {},
   "outputs": [],
   "source": [
    "df = pd.merge(imdb, netflix, left_on=['primaryTitle', 'startYear'], right_on=['title', 'release_year'], how='inner')"
   ]
  },
  {
   "cell_type": "code",
   "execution_count": 56,
   "metadata": {},
   "outputs": [
    {
     "name": "stdout",
     "output_type": "stream",
     "text": [
      "(8807, 12)\n",
      "(5551, 21)\n"
     ]
    }
   ],
   "source": [
    "print(netflix.shape)\n",
    "print(df.shape)"
   ]
  },
  {
   "cell_type": "code",
   "execution_count": 63,
   "metadata": {},
   "outputs": [
    {
     "data": {
      "text/html": [
       "<div>\n",
       "<style scoped>\n",
       "    .dataframe tbody tr th:only-of-type {\n",
       "        vertical-align: middle;\n",
       "    }\n",
       "\n",
       "    .dataframe tbody tr th {\n",
       "        vertical-align: top;\n",
       "    }\n",
       "\n",
       "    .dataframe thead th {\n",
       "        text-align: right;\n",
       "    }\n",
       "</style>\n",
       "<table border=\"1\" class=\"dataframe\">\n",
       "  <thead>\n",
       "    <tr style=\"text-align: right;\">\n",
       "      <th></th>\n",
       "      <th>tconst</th>\n",
       "      <th>titleType</th>\n",
       "      <th>primaryTitle</th>\n",
       "      <th>originalTitle</th>\n",
       "      <th>isAdult</th>\n",
       "      <th>startYear</th>\n",
       "      <th>endYear</th>\n",
       "      <th>runtimeMinutes</th>\n",
       "      <th>genres</th>\n",
       "      <th>show_id</th>\n",
       "      <th>...</th>\n",
       "      <th>title</th>\n",
       "      <th>director</th>\n",
       "      <th>cast</th>\n",
       "      <th>country</th>\n",
       "      <th>date_added</th>\n",
       "      <th>release_year</th>\n",
       "      <th>rating</th>\n",
       "      <th>duration</th>\n",
       "      <th>listed_in</th>\n",
       "      <th>description</th>\n",
       "    </tr>\n",
       "  </thead>\n",
       "  <tbody>\n",
       "  </tbody>\n",
       "</table>\n",
       "<p>0 rows × 21 columns</p>\n",
       "</div>"
      ],
      "text/plain": [
       "Empty DataFrame\n",
       "Columns: [tconst, titleType, primaryTitle, originalTitle, isAdult, startYear, endYear, runtimeMinutes, genres, show_id, type, title, director, cast, country, date_added, release_year, rating, duration, listed_in, description]\n",
       "Index: []\n",
       "\n",
       "[0 rows x 21 columns]"
      ]
     },
     "execution_count": 63,
     "metadata": {},
     "output_type": "execute_result"
    }
   ],
   "source": [
    "df[df['title'] == 'office']"
   ]
  },
  {
   "cell_type": "code",
   "execution_count": 62,
   "metadata": {},
   "outputs": [
    {
     "data": {
      "text/html": [
       "<div>\n",
       "<style scoped>\n",
       "    .dataframe tbody tr th:only-of-type {\n",
       "        vertical-align: middle;\n",
       "    }\n",
       "\n",
       "    .dataframe tbody tr th {\n",
       "        vertical-align: top;\n",
       "    }\n",
       "\n",
       "    .dataframe thead th {\n",
       "        text-align: right;\n",
       "    }\n",
       "</style>\n",
       "<table border=\"1\" class=\"dataframe\">\n",
       "  <thead>\n",
       "    <tr style=\"text-align: right;\">\n",
       "      <th></th>\n",
       "      <th>show_id</th>\n",
       "      <th>type</th>\n",
       "      <th>title</th>\n",
       "      <th>director</th>\n",
       "      <th>cast</th>\n",
       "      <th>country</th>\n",
       "      <th>date_added</th>\n",
       "      <th>release_year</th>\n",
       "      <th>rating</th>\n",
       "      <th>duration</th>\n",
       "      <th>listed_in</th>\n",
       "      <th>description</th>\n",
       "    </tr>\n",
       "  </thead>\n",
       "  <tbody>\n",
       "    <tr>\n",
       "      <th>316</th>\n",
       "      <td>s317</td>\n",
       "      <td>tvSeries</td>\n",
       "      <td>office girls</td>\n",
       "      <td>Hsu Fu-chun</td>\n",
       "      <td>Roy Chiu, Alice Ko, Tia Lee, Patrick Lee, Kuo ...</td>\n",
       "      <td>Taiwan</td>\n",
       "      <td>August 3, 2021</td>\n",
       "      <td>2011</td>\n",
       "      <td>TV-14</td>\n",
       "      <td>1 Season</td>\n",
       "      <td>International TV Shows, Romantic TV Shows, TV ...</td>\n",
       "      <td>A department store mogul has his son work inco...</td>\n",
       "    </tr>\n",
       "    <tr>\n",
       "      <th>4535</th>\n",
       "      <td>s4536</td>\n",
       "      <td>tvSeries</td>\n",
       "      <td>yg future strategy office</td>\n",
       "      <td>NaN</td>\n",
       "      <td>Seungri, Yoo Byung Jae, Lee Jai-jin, Jinu, Son...</td>\n",
       "      <td>South Korea</td>\n",
       "      <td>October 5, 2018</td>\n",
       "      <td>2018</td>\n",
       "      <td>TV-MA</td>\n",
       "      <td>1 Season</td>\n",
       "      <td>International TV Shows, Korean TV Shows, TV Co...</td>\n",
       "      <td>K-pop star Seungri, BIGBANG's youngest member,...</td>\n",
       "    </tr>\n",
       "    <tr>\n",
       "      <th>7335</th>\n",
       "      <td>s7336</td>\n",
       "      <td>movie</td>\n",
       "      <td>look out, officer</td>\n",
       "      <td>Sze Yu Lau</td>\n",
       "      <td>Stephen Chow, Bill Tung, Stanley Sui-Fan Fung,...</td>\n",
       "      <td>Hong Kong</td>\n",
       "      <td>August 16, 2018</td>\n",
       "      <td>1990</td>\n",
       "      <td>TV-14</td>\n",
       "      <td>88 min</td>\n",
       "      <td>Action &amp; Adventure, Comedies, International Mo...</td>\n",
       "      <td>An officer killed on the job returns to Earth ...</td>\n",
       "    </tr>\n",
       "    <tr>\n",
       "      <th>7642</th>\n",
       "      <td>s7643</td>\n",
       "      <td>movie</td>\n",
       "      <td>officer downe</td>\n",
       "      <td>Shawn Crahan</td>\n",
       "      <td>Kim Coates, Tyler Ross, Lauren Vélez, Reno Wil...</td>\n",
       "      <td>United States</td>\n",
       "      <td>March 30, 2017</td>\n",
       "      <td>2016</td>\n",
       "      <td>R</td>\n",
       "      <td>91 min</td>\n",
       "      <td>Action &amp; Adventure</td>\n",
       "      <td>Fallen Los Angeles police officer Terrence Dow...</td>\n",
       "    </tr>\n",
       "    <tr>\n",
       "      <th>8442</th>\n",
       "      <td>s8443</td>\n",
       "      <td>tvSeries</td>\n",
       "      <td>the office (u.s.)</td>\n",
       "      <td>NaN</td>\n",
       "      <td>Steve Carell, John Krasinski, Jenna Fischer, R...</td>\n",
       "      <td>United States</td>\n",
       "      <td>January 1, 2016</td>\n",
       "      <td>2012</td>\n",
       "      <td>TV-14</td>\n",
       "      <td>9 Seasons</td>\n",
       "      <td>TV Comedies</td>\n",
       "      <td>This hit comedy chronicles the foibles of disg...</td>\n",
       "    </tr>\n",
       "    <tr>\n",
       "      <th>8446</th>\n",
       "      <td>s8447</td>\n",
       "      <td>movie</td>\n",
       "      <td>the parole officer</td>\n",
       "      <td>John Duigan</td>\n",
       "      <td>Steve Coogan, Emma Gilmour, Susan Jane Tanner,...</td>\n",
       "      <td>United Kingdom</td>\n",
       "      <td>August 1, 2018</td>\n",
       "      <td>2001</td>\n",
       "      <td>R</td>\n",
       "      <td>94 min</td>\n",
       "      <td>Action &amp; Adventure, Comedies</td>\n",
       "      <td>After witnessing a murder, Simon Garden is fra...</td>\n",
       "    </tr>\n",
       "  </tbody>\n",
       "</table>\n",
       "</div>"
      ],
      "text/plain": [
       "     show_id      type                      title      director  \\\n",
       "316     s317  tvSeries               office girls   Hsu Fu-chun   \n",
       "4535   s4536  tvSeries  yg future strategy office           NaN   \n",
       "7335   s7336     movie          look out, officer    Sze Yu Lau   \n",
       "7642   s7643     movie              officer downe  Shawn Crahan   \n",
       "8442   s8443  tvSeries          the office (u.s.)           NaN   \n",
       "8446   s8447     movie         the parole officer   John Duigan   \n",
       "\n",
       "                                                   cast         country  \\\n",
       "316   Roy Chiu, Alice Ko, Tia Lee, Patrick Lee, Kuo ...          Taiwan   \n",
       "4535  Seungri, Yoo Byung Jae, Lee Jai-jin, Jinu, Son...     South Korea   \n",
       "7335  Stephen Chow, Bill Tung, Stanley Sui-Fan Fung,...       Hong Kong   \n",
       "7642  Kim Coates, Tyler Ross, Lauren Vélez, Reno Wil...   United States   \n",
       "8442  Steve Carell, John Krasinski, Jenna Fischer, R...   United States   \n",
       "8446  Steve Coogan, Emma Gilmour, Susan Jane Tanner,...  United Kingdom   \n",
       "\n",
       "            date_added release_year rating   duration  \\\n",
       "316     August 3, 2021         2011  TV-14   1 Season   \n",
       "4535   October 5, 2018         2018  TV-MA   1 Season   \n",
       "7335   August 16, 2018         1990  TV-14     88 min   \n",
       "7642    March 30, 2017         2016      R     91 min   \n",
       "8442   January 1, 2016         2012  TV-14  9 Seasons   \n",
       "8446    August 1, 2018         2001      R     94 min   \n",
       "\n",
       "                                              listed_in  \\\n",
       "316   International TV Shows, Romantic TV Shows, TV ...   \n",
       "4535  International TV Shows, Korean TV Shows, TV Co...   \n",
       "7335  Action & Adventure, Comedies, International Mo...   \n",
       "7642                                 Action & Adventure   \n",
       "8442                                        TV Comedies   \n",
       "8446                       Action & Adventure, Comedies   \n",
       "\n",
       "                                            description  \n",
       "316   A department store mogul has his son work inco...  \n",
       "4535  K-pop star Seungri, BIGBANG's youngest member,...  \n",
       "7335  An officer killed on the job returns to Earth ...  \n",
       "7642  Fallen Los Angeles police officer Terrence Dow...  \n",
       "8442  This hit comedy chronicles the foibles of disg...  \n",
       "8446  After witnessing a murder, Simon Garden is fra...  "
      ]
     },
     "execution_count": 62,
     "metadata": {},
     "output_type": "execute_result"
    }
   ],
   "source": [
    "netflix[netflix['title'].str.contains('office')]"
   ]
  },
  {
   "cell_type": "code",
   "execution_count": 66,
   "metadata": {},
   "outputs": [
    {
     "data": {
      "text/html": [
       "<div>\n",
       "<style scoped>\n",
       "    .dataframe tbody tr th:only-of-type {\n",
       "        vertical-align: middle;\n",
       "    }\n",
       "\n",
       "    .dataframe tbody tr th {\n",
       "        vertical-align: top;\n",
       "    }\n",
       "\n",
       "    .dataframe thead th {\n",
       "        text-align: right;\n",
       "    }\n",
       "</style>\n",
       "<table border=\"1\" class=\"dataframe\">\n",
       "  <thead>\n",
       "    <tr style=\"text-align: right;\">\n",
       "      <th></th>\n",
       "      <th>tconst</th>\n",
       "      <th>titleType</th>\n",
       "      <th>primaryTitle</th>\n",
       "      <th>originalTitle</th>\n",
       "      <th>isAdult</th>\n",
       "      <th>startYear</th>\n",
       "      <th>endYear</th>\n",
       "      <th>runtimeMinutes</th>\n",
       "      <th>genres</th>\n",
       "    </tr>\n",
       "  </thead>\n",
       "  <tbody>\n",
       "    <tr>\n",
       "      <th>370267</th>\n",
       "      <td>tt0386676</td>\n",
       "      <td>tvSeries</td>\n",
       "      <td>the office</td>\n",
       "      <td>The Office</td>\n",
       "      <td>0</td>\n",
       "      <td>2005</td>\n",
       "      <td>2013</td>\n",
       "      <td>22</td>\n",
       "      <td>Comedy</td>\n",
       "    </tr>\n",
       "  </tbody>\n",
       "</table>\n",
       "</div>"
      ],
      "text/plain": [
       "           tconst titleType primaryTitle originalTitle isAdult startYear  \\\n",
       "370267  tt0386676  tvSeries   the office    The Office       0      2005   \n",
       "\n",
       "       endYear runtimeMinutes  genres  \n",
       "370267    2013             22  Comedy  "
      ]
     },
     "execution_count": 66,
     "metadata": {},
     "output_type": "execute_result"
    }
   ],
   "source": [
    "imdb[imdb['tconst'] == 'tt0386676']"
   ]
  },
  {
   "cell_type": "code",
   "execution_count": null,
   "metadata": {},
   "outputs": [],
   "source": []
  }
 ],
 "metadata": {
  "kernelspec": {
   "display_name": "rapids",
   "language": "python",
   "name": "python3"
  },
  "language_info": {
   "codemirror_mode": {
    "name": "ipython",
    "version": 3
   },
   "file_extension": ".py",
   "mimetype": "text/x-python",
   "name": "python",
   "nbconvert_exporter": "python",
   "pygments_lexer": "ipython3",
   "version": "3.10.13"
  }
 },
 "nbformat": 4,
 "nbformat_minor": 2
}
