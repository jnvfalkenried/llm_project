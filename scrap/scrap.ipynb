{
 "cells": [
  {
   "cell_type": "markdown",
   "metadata": {},
   "source": [
    "# Get all content from Netflix in Sweden -- DEPRECATED"
   ]
  },
  {
   "cell_type": "code",
   "execution_count": null,
   "metadata": {},
   "outputs": [],
   "source": [
    "from selenium import webdriver\n",
    "from selenium.webdriver.common.by import By\n",
    "from selenium.webdriver.common.keys import Keys\n",
    "from bs4 import BeautifulSoup\n",
    "import time\n",
    "\n",
    "# Set up the Selenium WebDriver (use appropriate WebDriver for your browser)\n",
    "driver = webdriver.Chrome()\n",
    "\n",
    "# Open the page\n",
    "driver.get('https://www.justwatch.com/se/leverantör/netflix')\n",
    "\n",
    "# Simulate scrolling\n",
    "SCROLL_PAUSE_TIME = 2  # seconds\n",
    "\n",
    "# Get the initial height of the page\n",
    "last_height = driver.execute_script(\"return document.body.scrollHeight\")\n",
    "\n",
    "while True:\n",
    "    # Scroll down to the bottom\n",
    "    driver.execute_script(\"window.scrollTo(0, document.body.scrollHeight);\")\n",
    "    \n",
    "    # Wait for new content to load\n",
    "    time.sleep(SCROLL_PAUSE_TIME)\n",
    "    \n",
    "    # Calculate new scroll height and compare with the last scroll height\n",
    "    new_height = driver.execute_script(\"return document.body.scrollHeight\")\n",
    "    \n",
    "    # If the height hasn't changed, we've reached the bottom of the page\n",
    "    if new_height == last_height:\n",
    "        break\n",
    "    last_height = new_height\n",
    "\n",
    "# Once all content is loaded, parse the page with BeautifulSoup\n",
    "soup = BeautifulSoup(driver.page_source, 'html.parser')\n",
    "\n",
    "# Find the title grid and extract the titles\n",
    "title_grid = soup.find('div', class_='title-list-grid')\n",
    "\n",
    "if title_grid:\n",
    "    title_elements = title_grid.find_all('div', {'data-title': True})\n",
    "    \n",
    "    titles = [element['data-title'] for element in title_elements]\n",
    "    \n",
    "    for title in titles:\n",
    "        print(title)\n",
    "else:\n",
    "    print(\"No titles found.\")\n",
    "\n",
    "# Close the driver\n",
    "driver.quit()\n"
   ]
  },
  {
   "cell_type": "markdown",
   "metadata": {},
   "source": [
    "# First Try"
   ]
  },
  {
   "cell_type": "code",
   "execution_count": 2,
   "metadata": {},
   "outputs": [
    {
     "name": "stderr",
     "output_type": "stream",
     "text": [
      "/tmp/ipykernel_166093/2601532259.py:3: DtypeWarning: Columns (4) have mixed types. Specify dtype option on import or set low_memory=False.\n",
      "  imdb = pd.read_csv('data/title.basics.tsv', sep='\\t')\n"
     ]
    }
   ],
   "source": [
    "import pandas as pd\n",
    "\n",
    "imdb = pd.read_csv('data/title.basics.tsv', sep='\\t')\n",
    "imdb = imdb[(imdb['titleType'] == 'movie') | (imdb['titleType'] == 'tvSeries')]\n",
    "imdb['primaryTitle'] = imdb['primaryTitle'].str.lower()"
   ]
  },
  {
   "cell_type": "markdown",
   "metadata": {},
   "source": [
    "# Scrap IMDB"
   ]
  },
  {
   "cell_type": "code",
   "execution_count": 3,
   "metadata": {},
   "outputs": [],
   "source": [
    "netflix = pd.read_csv('data/netflix_titles.csv')\n",
    "netflix['type'] = netflix['type'].apply(lambda x: 'movie' if x == 'Movie' else 'tvSeries')\n",
    "netflix['release_year'] = netflix['release_year'].astype(str)\n",
    "netflix['title'] = netflix['title'].str.lower()"
   ]
  },
  {
   "cell_type": "code",
   "execution_count": 4,
   "metadata": {},
   "outputs": [],
   "source": [
    "df = pd.merge(imdb, netflix, left_on=['primaryTitle', 'startYear'], right_on=['title', 'release_year'], how='inner')"
   ]
  },
  {
   "cell_type": "code",
   "execution_count": 5,
   "metadata": {},
   "outputs": [
    {
     "name": "stdout",
     "output_type": "stream",
     "text": [
      "(8807, 12)\n",
      "(5551, 21)\n"
     ]
    }
   ],
   "source": [
    "print(netflix.shape)\n",
    "print(df.shape)"
   ]
  },
  {
   "cell_type": "code",
   "execution_count": 56,
   "metadata": {},
   "outputs": [],
   "source": [
    "import requests\n",
    "from bs4 import BeautifulSoup\n",
    "import json\n",
    "\n",
    "header = {'User-Agent': 'Mozilla/5.0'}\n",
    "\n",
    "s = requests.Session()\n",
    "s.headers.update(header)\n",
    "\n",
    "counter = 0\n",
    "\n",
    "with open('data/movie_data.json', 'a') as f:\n",
    "# For every title in the dataframe, send a request to IMDB using the tconst\n",
    "    for index, row in df.iloc[:10, :].iterrows():\n",
    "        try:\n",
    "            response = s.get(f'https://www.imdb.com/title/{row[\"tconst\"]}/')\n",
    "\n",
    "            # Parse the response with BeautifulSoup\n",
    "            soup = BeautifulSoup(response.text, 'html.parser')\n",
    "\n",
    "            # Find the rating\n",
    "            rating = soup.find('span', class_='sc-eb51e184-1 ljxVSS').text\n",
    "\n",
    "            # Find the plot\n",
    "            plot = soup.find('div', class_='ipc-html-content-inner-div').text\n",
    "\n",
    "            # Find the review\n",
    "            review = [r.text for r in soup.find('div', class_='ipc-html-content ipc-html-content--base').children][0]\n",
    "\n",
    "            # Find the genres\n",
    "            genres = [c.text for c in soup.find('div', class_='ipc-chip-list__scroller').children]\n",
    "\n",
    "            # Define a dictionary to store the information\n",
    "            movie_data = {\n",
    "                'title': row['title'],\n",
    "                'tconst': row['tconst'],\n",
    "                'type': row['type'],\n",
    "                'rating': rating,\n",
    "                'plot': plot,\n",
    "                'review': review,\n",
    "                'genres': genres\n",
    "            }\n",
    "\n",
    "            # Save the data to a text file in JSON format\n",
    "            f.write(json.dumps(movie_data, indent=4) + '\\n')  # Append each movie as a new line of JSON\n",
    "\n",
    "            counter += 1\n",
    "            print(f\"Processed {counter} of {df.shape[0]} movies.\")\n",
    "        except Exception as e:\n",
    "            print(f\"Error processing {row['title']}: {e}\")\n",
    "\n",
    "print(\"Movie data collection complete.\")"
   ]
  },
  {
   "cell_type": "code",
   "execution_count": 53,
   "metadata": {},
   "outputs": [],
   "source": [
    "with open('data/movie_data.json', 'r') as f:\n",
    "    movies_data = json.load(f)"
   ]
  },
  {
   "cell_type": "code",
   "execution_count": 55,
   "metadata": {},
   "outputs": [
    {
     "data": {
      "text/plain": [
       "{'title': 'kate & leopold',\n",
       " 'tconst': 'tt0035423',\n",
       " 'rating': '9.0',\n",
       " 'plot': 'Extreme parkour, spilled chili, and way too much baby talk! Head back to Dunder Mifflin and relive the funniest moments that happened before the opening credits of the classic sitcom.',\n",
       " 'review': 'Honestly, I thought show as \\'boring\\' even before I watched a single episode. Seriously, what interesting could happen in an office environment? I remember first scene I saw from this show. It was from an internet wallpaper with Michael Scott with a white board behind him saying \"You miss 100% of the shots you don\\'t take\".Then after years from that, I somehow started watching \"The Office\", I don\\'t really remember why I did that. What I love most about this show is it\\'s raw nature. The camera is kind of shaky yet still brings the best scenes...something that I had never seen before in a TV sitcom. It may seem less professional but adds real life, personal touch with the TV show and the characters in them.Obviously, Michael Scott is one of my favourite character. Jim, Andy, Dwight, Pam, Erin, Kevin, Oscar, Angela, Creed and even the camera crew include in my favourite list.What I learned from this show is that it\\'s okay to be weird and different ,that you won\\'t be welcomed as you wanted it to be ( remembering Michael Scott attempts ), that you can\\'t wait and expect things to happen for you, that it\\'s okay to be hated and feel hate to others....it\\'s all dependent on time. People change, feelings change, situations change. All you got to do is be yourself and be true to your heart and everything will fall into it\\'s place.I love every minute I spent on this show <3',\n",
       " 'genres': ['Mockumentary', 'Sitcom', 'Comedy']}"
      ]
     },
     "execution_count": 55,
     "metadata": {},
     "output_type": "execute_result"
    }
   ],
   "source": [
    "movies_data[0]"
   ]
  },
  {
   "cell_type": "code",
   "execution_count": null,
   "metadata": {},
   "outputs": [],
   "source": []
  }
 ],
 "metadata": {
  "kernelspec": {
   "display_name": "rapids",
   "language": "python",
   "name": "python3"
  },
  "language_info": {
   "codemirror_mode": {
    "name": "ipython",
    "version": 3
   },
   "file_extension": ".py",
   "mimetype": "text/x-python",
   "name": "python",
   "nbconvert_exporter": "python",
   "pygments_lexer": "ipython3",
   "version": "3.10.13"
  }
 },
 "nbformat": 4,
 "nbformat_minor": 2
}
